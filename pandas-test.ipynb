{
 "cells": [
  {
   "cell_type": "code",
   "execution_count": 1,
   "metadata": {},
   "outputs": [],
   "source": [
    "import pandas as pd\n",
    "import datetime as dt"
   ]
  },
  {
   "cell_type": "code",
   "execution_count": 2,
   "metadata": {},
   "outputs": [],
   "source": [
    "df = pd.read_csv('https://covid19.isciii.es/resources/serie_historica_acumulados.csv', encoding='mac-roman', skipfooter=3, engine='python', parse_dates=['FECHA'], date_parser=lambda x: dt.datetime.strptime(x, '%d/%m/%Y'))"
   ]
  },
  {
   "cell_type": "code",
   "execution_count": 3,
   "metadata": {},
   "outputs": [],
   "source": [
    "df.fillna(0, inplace=True)"
   ]
  },
  {
   "cell_type": "code",
   "execution_count": 4,
   "metadata": {},
   "outputs": [],
   "source": [
    "df['Activos'] = df['CASOS'] - (df['Fallecidos'] + df['Recuperados'])"
   ]
  },
  {
   "cell_type": "code",
   "execution_count": 5,
   "metadata": {},
   "outputs": [
    {
     "data": {
      "text/html": [
       "<div>\n",
       "<style scoped>\n",
       "    .dataframe tbody tr th:only-of-type {\n",
       "        vertical-align: middle;\n",
       "    }\n",
       "\n",
       "    .dataframe tbody tr th {\n",
       "        vertical-align: top;\n",
       "    }\n",
       "\n",
       "    .dataframe thead th {\n",
       "        text-align: right;\n",
       "    }\n",
       "</style>\n",
       "<table border=\"1\" class=\"dataframe\">\n",
       "  <thead>\n",
       "    <tr style=\"text-align: right;\">\n",
       "      <th></th>\n",
       "      <th>CCAA</th>\n",
       "      <th>FECHA</th>\n",
       "      <th>CASOS</th>\n",
       "      <th>Hospitalizados</th>\n",
       "      <th>UCI</th>\n",
       "      <th>Fallecidos</th>\n",
       "      <th>Recuperados</th>\n",
       "      <th>Activos</th>\n",
       "    </tr>\n",
       "  </thead>\n",
       "  <tbody>\n",
       "    <tr>\n",
       "      <th>0</th>\n",
       "      <td>AN</td>\n",
       "      <td>2020-02-20</td>\n",
       "      <td>0.0</td>\n",
       "      <td>0.0</td>\n",
       "      <td>0.0</td>\n",
       "      <td>0.0</td>\n",
       "      <td>0.0</td>\n",
       "      <td>0.0</td>\n",
       "    </tr>\n",
       "    <tr>\n",
       "      <th>1</th>\n",
       "      <td>AR</td>\n",
       "      <td>2020-02-20</td>\n",
       "      <td>0.0</td>\n",
       "      <td>0.0</td>\n",
       "      <td>0.0</td>\n",
       "      <td>0.0</td>\n",
       "      <td>0.0</td>\n",
       "      <td>0.0</td>\n",
       "    </tr>\n",
       "    <tr>\n",
       "      <th>2</th>\n",
       "      <td>AS</td>\n",
       "      <td>2020-02-20</td>\n",
       "      <td>0.0</td>\n",
       "      <td>0.0</td>\n",
       "      <td>0.0</td>\n",
       "      <td>0.0</td>\n",
       "      <td>0.0</td>\n",
       "      <td>0.0</td>\n",
       "    </tr>\n",
       "    <tr>\n",
       "      <th>3</th>\n",
       "      <td>IB</td>\n",
       "      <td>2020-02-20</td>\n",
       "      <td>1.0</td>\n",
       "      <td>0.0</td>\n",
       "      <td>0.0</td>\n",
       "      <td>0.0</td>\n",
       "      <td>0.0</td>\n",
       "      <td>1.0</td>\n",
       "    </tr>\n",
       "    <tr>\n",
       "      <th>4</th>\n",
       "      <td>CN</td>\n",
       "      <td>2020-02-20</td>\n",
       "      <td>1.0</td>\n",
       "      <td>0.0</td>\n",
       "      <td>0.0</td>\n",
       "      <td>0.0</td>\n",
       "      <td>0.0</td>\n",
       "      <td>1.0</td>\n",
       "    </tr>\n",
       "    <tr>\n",
       "      <th>...</th>\n",
       "      <td>...</td>\n",
       "      <td>...</td>\n",
       "      <td>...</td>\n",
       "      <td>...</td>\n",
       "      <td>...</td>\n",
       "      <td>...</td>\n",
       "      <td>...</td>\n",
       "      <td>...</td>\n",
       "    </tr>\n",
       "    <tr>\n",
       "      <th>926</th>\n",
       "      <td>ML</td>\n",
       "      <td>2020-04-08</td>\n",
       "      <td>93.0</td>\n",
       "      <td>40.0</td>\n",
       "      <td>3.0</td>\n",
       "      <td>2.0</td>\n",
       "      <td>16.0</td>\n",
       "      <td>75.0</td>\n",
       "    </tr>\n",
       "    <tr>\n",
       "      <th>927</th>\n",
       "      <td>MC</td>\n",
       "      <td>2020-04-08</td>\n",
       "      <td>1356.0</td>\n",
       "      <td>533.0</td>\n",
       "      <td>87.0</td>\n",
       "      <td>88.0</td>\n",
       "      <td>219.0</td>\n",
       "      <td>1049.0</td>\n",
       "    </tr>\n",
       "    <tr>\n",
       "      <th>928</th>\n",
       "      <td>NC</td>\n",
       "      <td>2020-04-08</td>\n",
       "      <td>3575.0</td>\n",
       "      <td>1526.0</td>\n",
       "      <td>124.0</td>\n",
       "      <td>214.0</td>\n",
       "      <td>462.0</td>\n",
       "      <td>2899.0</td>\n",
       "    </tr>\n",
       "    <tr>\n",
       "      <th>929</th>\n",
       "      <td>PV</td>\n",
       "      <td>2020-04-08</td>\n",
       "      <td>9806.0</td>\n",
       "      <td>5130.0</td>\n",
       "      <td>433.0</td>\n",
       "      <td>689.0</td>\n",
       "      <td>4514.0</td>\n",
       "      <td>4603.0</td>\n",
       "    </tr>\n",
       "    <tr>\n",
       "      <th>930</th>\n",
       "      <td>RI</td>\n",
       "      <td>2020-04-08</td>\n",
       "      <td>3026.0</td>\n",
       "      <td>997.0</td>\n",
       "      <td>69.0</td>\n",
       "      <td>182.0</td>\n",
       "      <td>1172.0</td>\n",
       "      <td>1672.0</td>\n",
       "    </tr>\n",
       "  </tbody>\n",
       "</table>\n",
       "<p>931 rows × 8 columns</p>\n",
       "</div>"
      ],
      "text/plain": [
       "    CCAA      FECHA   CASOS  Hospitalizados    UCI  Fallecidos  Recuperados  \\\n",
       "0     AN 2020-02-20     0.0             0.0    0.0         0.0          0.0   \n",
       "1     AR 2020-02-20     0.0             0.0    0.0         0.0          0.0   \n",
       "2     AS 2020-02-20     0.0             0.0    0.0         0.0          0.0   \n",
       "3     IB 2020-02-20     1.0             0.0    0.0         0.0          0.0   \n",
       "4     CN 2020-02-20     1.0             0.0    0.0         0.0          0.0   \n",
       "..   ...        ...     ...             ...    ...         ...          ...   \n",
       "926   ML 2020-04-08    93.0            40.0    3.0         2.0         16.0   \n",
       "927   MC 2020-04-08  1356.0           533.0   87.0        88.0        219.0   \n",
       "928   NC 2020-04-08  3575.0          1526.0  124.0       214.0        462.0   \n",
       "929   PV 2020-04-08  9806.0          5130.0  433.0       689.0       4514.0   \n",
       "930   RI 2020-04-08  3026.0           997.0   69.0       182.0       1172.0   \n",
       "\n",
       "     Activos  \n",
       "0        0.0  \n",
       "1        0.0  \n",
       "2        0.0  \n",
       "3        1.0  \n",
       "4        1.0  \n",
       "..       ...  \n",
       "926     75.0  \n",
       "927   1049.0  \n",
       "928   2899.0  \n",
       "929   4603.0  \n",
       "930   1672.0  \n",
       "\n",
       "[931 rows x 8 columns]"
      ]
     },
     "execution_count": 5,
     "metadata": {},
     "output_type": "execute_result"
    }
   ],
   "source": [
    "df"
   ]
  },
  {
   "cell_type": "code",
   "execution_count": 9,
   "metadata": {},
   "outputs": [],
   "source": [
    "df.set_index('FECHA', inplace=True)"
   ]
  },
  {
   "cell_type": "code",
   "execution_count": 13,
   "metadata": {},
   "outputs": [
    {
     "data": {
      "text/html": [
       "<div>\n",
       "<style scoped>\n",
       "    .dataframe tbody tr th:only-of-type {\n",
       "        vertical-align: middle;\n",
       "    }\n",
       "\n",
       "    .dataframe tbody tr th {\n",
       "        vertical-align: top;\n",
       "    }\n",
       "\n",
       "    .dataframe thead th {\n",
       "        text-align: right;\n",
       "    }\n",
       "</style>\n",
       "<table border=\"1\" class=\"dataframe\">\n",
       "  <thead>\n",
       "    <tr style=\"text-align: right;\">\n",
       "      <th></th>\n",
       "      <th>CCAA</th>\n",
       "      <th>CASOS</th>\n",
       "      <th>Hospitalizados</th>\n",
       "      <th>UCI</th>\n",
       "      <th>Fallecidos</th>\n",
       "      <th>Recuperados</th>\n",
       "      <th>Activos</th>\n",
       "    </tr>\n",
       "    <tr>\n",
       "      <th>FECHA</th>\n",
       "      <th></th>\n",
       "      <th></th>\n",
       "      <th></th>\n",
       "      <th></th>\n",
       "      <th></th>\n",
       "      <th></th>\n",
       "      <th></th>\n",
       "    </tr>\n",
       "  </thead>\n",
       "  <tbody>\n",
       "    <tr>\n",
       "      <th>2020-02-20</th>\n",
       "      <td>AN</td>\n",
       "      <td>0.0</td>\n",
       "      <td>0.0</td>\n",
       "      <td>0.0</td>\n",
       "      <td>0.0</td>\n",
       "      <td>0.0</td>\n",
       "      <td>0.0</td>\n",
       "    </tr>\n",
       "    <tr>\n",
       "      <th>2020-02-20</th>\n",
       "      <td>AR</td>\n",
       "      <td>0.0</td>\n",
       "      <td>0.0</td>\n",
       "      <td>0.0</td>\n",
       "      <td>0.0</td>\n",
       "      <td>0.0</td>\n",
       "      <td>0.0</td>\n",
       "    </tr>\n",
       "    <tr>\n",
       "      <th>2020-02-20</th>\n",
       "      <td>AS</td>\n",
       "      <td>0.0</td>\n",
       "      <td>0.0</td>\n",
       "      <td>0.0</td>\n",
       "      <td>0.0</td>\n",
       "      <td>0.0</td>\n",
       "      <td>0.0</td>\n",
       "    </tr>\n",
       "    <tr>\n",
       "      <th>2020-02-20</th>\n",
       "      <td>IB</td>\n",
       "      <td>1.0</td>\n",
       "      <td>0.0</td>\n",
       "      <td>0.0</td>\n",
       "      <td>0.0</td>\n",
       "      <td>0.0</td>\n",
       "      <td>1.0</td>\n",
       "    </tr>\n",
       "    <tr>\n",
       "      <th>2020-02-20</th>\n",
       "      <td>CN</td>\n",
       "      <td>1.0</td>\n",
       "      <td>0.0</td>\n",
       "      <td>0.0</td>\n",
       "      <td>0.0</td>\n",
       "      <td>0.0</td>\n",
       "      <td>1.0</td>\n",
       "    </tr>\n",
       "    <tr>\n",
       "      <th>...</th>\n",
       "      <td>...</td>\n",
       "      <td>...</td>\n",
       "      <td>...</td>\n",
       "      <td>...</td>\n",
       "      <td>...</td>\n",
       "      <td>...</td>\n",
       "      <td>...</td>\n",
       "    </tr>\n",
       "    <tr>\n",
       "      <th>2020-04-08</th>\n",
       "      <td>ML</td>\n",
       "      <td>93.0</td>\n",
       "      <td>40.0</td>\n",
       "      <td>3.0</td>\n",
       "      <td>2.0</td>\n",
       "      <td>16.0</td>\n",
       "      <td>75.0</td>\n",
       "    </tr>\n",
       "    <tr>\n",
       "      <th>2020-04-08</th>\n",
       "      <td>MC</td>\n",
       "      <td>1356.0</td>\n",
       "      <td>533.0</td>\n",
       "      <td>87.0</td>\n",
       "      <td>88.0</td>\n",
       "      <td>219.0</td>\n",
       "      <td>1049.0</td>\n",
       "    </tr>\n",
       "    <tr>\n",
       "      <th>2020-04-08</th>\n",
       "      <td>NC</td>\n",
       "      <td>3575.0</td>\n",
       "      <td>1526.0</td>\n",
       "      <td>124.0</td>\n",
       "      <td>214.0</td>\n",
       "      <td>462.0</td>\n",
       "      <td>2899.0</td>\n",
       "    </tr>\n",
       "    <tr>\n",
       "      <th>2020-04-08</th>\n",
       "      <td>PV</td>\n",
       "      <td>9806.0</td>\n",
       "      <td>5130.0</td>\n",
       "      <td>433.0</td>\n",
       "      <td>689.0</td>\n",
       "      <td>4514.0</td>\n",
       "      <td>4603.0</td>\n",
       "    </tr>\n",
       "    <tr>\n",
       "      <th>2020-04-08</th>\n",
       "      <td>RI</td>\n",
       "      <td>3026.0</td>\n",
       "      <td>997.0</td>\n",
       "      <td>69.0</td>\n",
       "      <td>182.0</td>\n",
       "      <td>1172.0</td>\n",
       "      <td>1672.0</td>\n",
       "    </tr>\n",
       "  </tbody>\n",
       "</table>\n",
       "<p>931 rows × 7 columns</p>\n",
       "</div>"
      ],
      "text/plain": [
       "           CCAA   CASOS  Hospitalizados    UCI  Fallecidos  Recuperados  \\\n",
       "FECHA                                                                     \n",
       "2020-02-20   AN     0.0             0.0    0.0         0.0          0.0   \n",
       "2020-02-20   AR     0.0             0.0    0.0         0.0          0.0   \n",
       "2020-02-20   AS     0.0             0.0    0.0         0.0          0.0   \n",
       "2020-02-20   IB     1.0             0.0    0.0         0.0          0.0   \n",
       "2020-02-20   CN     1.0             0.0    0.0         0.0          0.0   \n",
       "...         ...     ...             ...    ...         ...          ...   \n",
       "2020-04-08   ML    93.0            40.0    3.0         2.0         16.0   \n",
       "2020-04-08   MC  1356.0           533.0   87.0        88.0        219.0   \n",
       "2020-04-08   NC  3575.0          1526.0  124.0       214.0        462.0   \n",
       "2020-04-08   PV  9806.0          5130.0  433.0       689.0       4514.0   \n",
       "2020-04-08   RI  3026.0           997.0   69.0       182.0       1172.0   \n",
       "\n",
       "            Activos  \n",
       "FECHA                \n",
       "2020-02-20      0.0  \n",
       "2020-02-20      0.0  \n",
       "2020-02-20      0.0  \n",
       "2020-02-20      1.0  \n",
       "2020-02-20      1.0  \n",
       "...             ...  \n",
       "2020-04-08     75.0  \n",
       "2020-04-08   1049.0  \n",
       "2020-04-08   2899.0  \n",
       "2020-04-08   4603.0  \n",
       "2020-04-08   1672.0  \n",
       "\n",
       "[931 rows x 7 columns]"
      ]
     },
     "execution_count": 13,
     "metadata": {},
     "output_type": "execute_result"
    }
   ],
   "source": [
    "df"
   ]
  },
  {
   "cell_type": "code",
   "execution_count": 30,
   "metadata": {},
   "outputs": [
    {
     "data": {
      "image/png": "[encoded data removed]",
      "text/plain": [
       "<Figure size 432x288 with 1 Axes>"
      ]
     },
     "metadata": {
      "needs_background": "light"
     },
     "output_type": "display_data"
    }
   ],
   "source": [
    "ax = df[(df['Activos']>100) & (df['CCAA']=='CN')].plot(y='Activos')"
   ]
  },
  {
   "cell_type": "code",
   "execution_count": 34,
   "metadata": {},
   "outputs": [
    {
     "data": {
      "text/plain": [
       "FECHA\n",
       "2020-03-05      137.0\n",
       "2020-03-06      137.0\n",
       "2020-03-07      175.0\n",
       "2020-03-08      453.0\n",
       "2020-03-08      141.0\n",
       "               ...   \n",
       "2020-04-08    16956.0\n",
       "2020-04-08     1049.0\n",
       "2020-04-08     2899.0\n",
       "2020-04-08     4603.0\n",
       "2020-04-08     1672.0\n",
       "Name: Activos, Length: 467, dtype: float64"
      ]
     },
     "execution_count": 34,
     "metadata": {},
     "output_type": "execute_result"
    }
   ],
   "source": [
    "df[df['Activos'] > 100]['Activos']"
   ]
  },
  {
   "cell_type": "code",
   "execution_count": 35,
   "metadata": {},
   "outputs": [],
   "source": [
    "series = df['Activos']"
   ]
  },
  {
   "cell_type": "code",
   "execution_count": 36,
   "metadata": {},
   "outputs": [
    {
     "data": {
      "text/plain": [
       "pandas.core.series.Series"
      ]
     },
     "execution_count": 36,
     "metadata": {},
     "output_type": "execute_result"
    }
   ],
   "source": [
    "type(series)"
   ]
  },
  {
   "cell_type": "code",
   "execution_count": 37,
   "metadata": {},
   "outputs": [
    {
     "data": {
      "text/plain": [
       "FECHA\n",
       "2020-02-20       NaN\n",
       "2020-02-20       NaN\n",
       "2020-02-20       NaN\n",
       "2020-02-20       NaN\n",
       "2020-02-20       NaN\n",
       "               ...  \n",
       "2020-04-08       NaN\n",
       "2020-04-08    1049.0\n",
       "2020-04-08    2899.0\n",
       "2020-04-08    4603.0\n",
       "2020-04-08    1672.0\n",
       "Name: Activos, Length: 931, dtype: float64"
      ]
     },
     "execution_count": 37,
     "metadata": {},
     "output_type": "execute_result"
    }
   ],
   "source": [
    "series.where(series>100)"
   ]
  },
  {
   "cell_type": "code",
   "execution_count": 39,
   "metadata": {},
   "outputs": [
    {
     "data": {
      "text/plain": [
       "0         0.0\n",
       "1         0.0\n",
       "2         0.0\n",
       "3         1.0\n",
       "4         1.0\n",
       "        ...  \n",
       "926      75.0\n",
       "927    1049.0\n",
       "928    2899.0\n",
       "929    4603.0\n",
       "930    1672.0\n",
       "Name: Activos, Length: 931, dtype: float64"
      ]
     },
     "execution_count": 39,
     "metadata": {},
     "output_type": "execute_result"
    }
   ],
   "source": [
    "series.reset_index()['Activos']"
   ]
  },
  {
   "cell_type": "code",
   "execution_count": null,
   "metadata": {},
   "outputs": [],
   "source": []
  }
 ],
 "metadata": {
  "kernelspec": {
   "display_name": "Python 3",
   "language": "python",
   "name": "python3"
  },
  "language_info": {
   "codemirror_mode": {
    "name": "ipython",
    "version": 3
   },
   "file_extension": ".py",
   "mimetype": "text/x-python",
   "name": "python",
   "nbconvert_exporter": "python",
   "pygments_lexer": "ipython3",
   "version": "3.7.2"
  }
 },
 "nbformat": 4,
 "nbformat_minor": 4
}
